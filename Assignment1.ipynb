{
 "cells": [
  {
   "cell_type": "markdown",
   "id": "86ca3d8d",
   "metadata": {},
   "source": [
    "### Python Basics\n",
    "\n",
    "#### Assignment 1"
   ]
  },
  {
   "cell_type": "raw",
   "id": "a4335998",
   "metadata": {},
   "source": [
    "Q1. In the below elements which of them are values or an expression? \n",
    "eg:- values can be integer or string and expressions will be mathematical operators.\n",
    "\n",
    "Ans:    *    : Operator\n",
    "     'hello' : String\n",
    "     -87.8   : Float\n",
    "       -     : Operator\n",
    "       /     : Operator\n",
    "       +\t : Operator\n",
    "       6     : Interger\n",
    "\n",
    "Q2. What is the difference between string and variable?\n",
    "Ans: String are character enclosed in quotes of any type - single quotation marks, double quotation marks and triple quotation marks.\n",
    "Variable represent named location that refers to a value and whose value can be used and processed during program run.\n",
    "\n",
    "Q3. Describe three different data types."
   ]
  },
  {
   "cell_type": "code",
   "execution_count": 6,
   "id": "2e25e96b",
   "metadata": {},
   "outputs": [],
   "source": [
    "#String - String data type lets you hold string data in a set of quatation marks. Eg:\n",
    "\"abcd\"\n",
    "\"Assignment\"\n",
    "'Python'\n",
    "\n",
    "#List - List represent comma-separated values of any datatype between square brackets. List can be changed(i.e mutable).\n",
    "#Eg. following are some lists:\n",
    "[1,2,3,4]\n",
    "[\"a\",\"e\",\"i\",\"g\"]\n",
    "[\"maths\",\"english\",\"science\"]\n",
    "\n",
    "#Tuple - Tuples cannot be changed. It is a group of comma seperated values of any datatypes within parenthesis.\n",
    "#e.g - following are some tuples:\n",
    "\n",
    "p=(1,2,3,4,5)\n",
    "q=(2,4,6)\n",
    "r=(\"A\",\"B\",9,6)\n"
   ]
  },
  {
   "cell_type": "raw",
   "id": "2f3d8568",
   "metadata": {},
   "source": [
    "Q4. What is an expression made up of? What do all expressions do?\n",
    "Ans. An expression is a combination of values, variables, operators, and calls to functions. All expression is evaluated and returns the value."
   ]
  },
  {
   "cell_type": "raw",
   "id": "8808fecd",
   "metadata": {},
   "source": [
    "Q5. This assignment statements, like spam = 10. What is the difference between an expression and a statement?\n",
    "Ans. Assignment statements is used to assign the objects to names. Like value 10 is assigned to variable named \"spam\".\n",
    "\n",
    "“expression” is a combination of values and functions that are combined and interpreted by the compiler to create a new value.\n",
    "Eg. type(spam) is an expression, which calls function \"type\" and returns value \"int\".\n",
    "\n",
    "As opposed to a “statement” which is just a standalone unit of execution and doesn't return anything.\n",
    "like spam=10 is an assigment statement."
   ]
  },
  {
   "cell_type": "raw",
   "id": "cbe1d1ab",
   "metadata": {},
   "source": [
    "Q6. After running the following code, what does the variable bacon contain?\n",
    "bacon = 22\n",
    "bacon + 1\n",
    "Ans: bacon variable contain int value 23."
   ]
  },
  {
   "cell_type": "raw",
   "id": "eb2efaab",
   "metadata": {},
   "source": [
    "Q7. What should the values of the following two terms be?\n",
    "'spam' + 'spamspam'\n",
    "'spam' * 3\n",
    "Ans: 'spam' + 'spamspam' : 'spamspamspam'\n",
    "     'spam' * 3          : 'spamspamspam'\n"
   ]
  },
  {
   "cell_type": "raw",
   "id": "d1e33017",
   "metadata": {},
   "source": [
    "Q8. Why is eggs a valid variable name while 100 is invalid?\n",
    "Ans. Because in Python a variable name must start with a letter or the underscore character. A variable name cannot start with a number."
   ]
  },
  {
   "cell_type": "raw",
   "id": "e6c8a008",
   "metadata": {},
   "source": [
    "Q9. What three functions can be used to get the integer, floating-point number, or string version of a value?\n",
    "Ans: For integer - int(), floating point number - float() and string - str()"
   ]
  },
  {
   "cell_type": "raw",
   "id": "bcf41557",
   "metadata": {},
   "source": [
    "Q10. Why does this expression cause an error? How can you fix it?\n",
    "'I have eaten ' + 99 + ' burritos.'\n",
    "Ans. Because + operator has to have all operands of same type either of number or string type. It cannot work with one operand as string and one as a number\n",
    "It can be fix as : 'I have eaten ' + '99' + ' burritos.'"
   ]
  },
  {
   "cell_type": "code",
   "execution_count": null,
   "id": "7d77e293",
   "metadata": {},
   "outputs": [],
   "source": []
  }
 ],
 "metadata": {
  "kernelspec": {
   "display_name": "Python 3 (ipykernel)",
   "language": "python",
   "name": "python3"
  },
  "language_info": {
   "codemirror_mode": {
    "name": "ipython",
    "version": 3
   },
   "file_extension": ".py",
   "mimetype": "text/x-python",
   "name": "python",
   "nbconvert_exporter": "python",
   "pygments_lexer": "ipython3",
   "version": "3.9.7"
  }
 },
 "nbformat": 4,
 "nbformat_minor": 5
}
